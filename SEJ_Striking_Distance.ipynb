{
  "nbformat": 4,
  "nbformat_minor": 0,
  "metadata": {
    "colab": {
      "name": "SEJ Striking Distance.ipynb",
      "provenance": [],
      "collapsed_sections": [],
      "include_colab_link": true
    },
    "kernelspec": {
      "display_name": "Python 3",
      "name": "python3"
    },
    "language_info": {
      "name": "python"
    }
  },
  "cells": [
    {
      "cell_type": "markdown",
      "metadata": {
        "id": "view-in-github",
        "colab_type": "text"
      },
      "source": [
        "<a href=\"https://colab.research.google.com/github/wrightj2/SEJ/blob/main/SEJ_Striking_Distance.ipynb\" target=\"_parent\"><img src=\"https://colab.research.google.com/assets/colab-badge.svg\" alt=\"Open In Colab\"/></a>"
      ]
    },
    {
      "cell_type": "markdown",
      "metadata": {
        "id": "YUnhQzreTBYC"
      },
      "source": [
        "# Striking Distance Report Creator v1\n",
        "by [LeeFootSEO](https://twitter.com/LeeFootSEO) October 2021\n"
      ]
    },
    {
      "cell_type": "code",
      "metadata": {
        "colab": {
          "base_uri": "https://localhost:8080/"
        },
        "id": "YmwgH53293DQ",
        "outputId": "c05c74c4-afd2-4315-f160-fedca07eb869"
      },
      "source": [
        "!pip install pandas"
      ],
      "execution_count": 103,
      "outputs": [
        {
          "output_type": "stream",
          "name": "stdout",
          "text": [
            "Requirement already satisfied: pandas in /usr/local/lib/python3.7/dist-packages (1.1.5)\n",
            "Requirement already satisfied: python-dateutil>=2.7.3 in /usr/local/lib/python3.7/dist-packages (from pandas) (2.8.2)\n",
            "Requirement already satisfied: pytz>=2017.2 in /usr/local/lib/python3.7/dist-packages (from pandas) (2018.9)\n",
            "Requirement already satisfied: numpy>=1.15.4 in /usr/local/lib/python3.7/dist-packages (from pandas) (1.19.5)\n",
            "Requirement already satisfied: six>=1.5 in /usr/local/lib/python3.7/dist-packages (from python-dateutil>=2.7.3->pandas) (1.15.0)\n"
          ]
        }
      ]
    },
    {
      "cell_type": "code",
      "metadata": {
        "id": "Si44jpFX9_Ai"
      },
      "source": [
        "import pandas as pd\n",
        "from pandas import DataFrame, Series\n",
        "from typing import Union\n",
        "from google.colab import files"
      ],
      "execution_count": 104,
      "outputs": []
    },
    {
      "cell_type": "markdown",
      "metadata": {
        "id": "DaxV6BWKMovM"
      },
      "source": [
        "# Set Variables"
      ]
    },
    {
      "cell_type": "code",
      "metadata": {
        "id": "G8_4SZDB-BwD"
      },
      "source": [
        "# set all variables here\n",
        "min_volume = 1  # set the minimum search volume\n",
        "min_position = 1  # set the minimum position  / default = 4\n",
        "max_position = 200 # set the maximum position  / default = 20\n",
        "drop_all_true = True  # If all checks (h1/title/copy) are true, remove the recommendation (Nothing to do)\n",
        "pagination_filters = \"filterby|page|p=\"  # filter patterns used to detect and drop paginated pages"
      ],
      "execution_count": 105,
      "outputs": []
    },
    {
      "cell_type": "markdown",
      "metadata": {
        "id": "uKDW6tvAMyZk"
      },
      "source": [
        "# Upload the Keyword Export File from Ahrefs or SEMrush\n",
        "\n",
        "*   This file should be a report of all the keywords a site is ranking for.\n",
        "*   Ahrefs (v1 and v2) & semrush keyword exports can be uploaded without modification.\n",
        "*   .csv file in UTF-8 Format\n",
        "\n",
        "For any other keyword exports, your csv file needs to contain the following column names:\n",
        "```URL```\n",
        "```Keyword```\n",
        "```Volume```\n",
        "```Position```"
      ]
    },
    {
      "cell_type": "code",
      "metadata": {
        "colab": {
          "resources": {
            "http://localhost:8080/nbextensions/google.colab/files.js": {
              "data": "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",
              "ok": true,
              "headers": [
                [
                  "content-type",
                  "application/javascript"
                ]
              ],
              "status": 200,
              "status_text": ""
            }
          },
          "base_uri": "https://localhost:8080/",
          "height": 327
        },
        "id": "MsOLZQEc-YmR",
        "outputId": "305c7e26-e2be-4ed9-c0cc-5f69669d688d"
      },
      "source": [
        "# upload the keyword export\n",
        "upload = files.upload()\n",
        "upload = list(upload.keys())[0]  # get the name of the uploaded file\n",
        "df_keywords = pd.read_csv(\n",
        "    (upload),\n",
        "    error_bad_lines=False,\n",
        "    low_memory=False,\n",
        "    encoding=\"utf8\",\n",
        "    dtype={\n",
        "        \"URL\": \"str\",\n",
        "        \"Keyword\": \"str\",\n",
        "        \"Volume\": \"str\",\n",
        "        \"Position\": int,\n",
        "        \"Current URL\": \"str\",\n",
        "        \"Search Volume\": int,\n",
        "    },\n",
        ")\n",
        "\n",
        "print(\"Uploaded Keyword CSV File Successfully!\")\n",
        "print(df_keywords)"
      ],
      "execution_count": 106,
      "outputs": [
        {
          "output_type": "display_data",
          "data": {
            "text/html": [
              "\n",
              "     <input type=\"file\" id=\"files-faa9d0d9-673c-4880-8abf-634fe4a7a1bf\" name=\"files[]\" multiple disabled\n",
              "        style=\"border:none\" />\n",
              "     <output id=\"result-faa9d0d9-673c-4880-8abf-634fe4a7a1bf\">\n",
              "      Upload widget is only available when the cell has been executed in the\n",
              "      current browser session. Please rerun this cell to enable.\n",
              "      </output>\n",
              "      <script src=\"/nbextensions/google.colab/files.js\"></script> "
            ],
            "text/plain": [
              "<IPython.core.display.HTML object>"
            ]
          },
          "metadata": {}
        },
        {
          "output_type": "stream",
          "name": "stdout",
          "text": [
            "Saving procopytips.com--organic-keywords-subdomains__2021-11-04_11-40-50.csv to procopytips.com--organic-keywords-subdomains__2021-11-04_11-40-50 (7).csv\n",
            "Uploaded Keyword CSV File Successfully!\n",
            "                     Keyword  ...         Current date\n",
            "0              flys or flies  ...  2021-11-03 00:28:11\n",
            "1          writing aesthetic  ...  2021-11-03 07:07:39\n",
            "2                disfunction  ...  2021-11-03 20:03:05\n",
            "3              flies or flys  ...  2021-11-03 19:50:06\n",
            "4           skeleton outline  ...  2021-10-29 00:35:54\n",
            "...                      ...  ...                  ...\n",
            "1303                app sumo  ...  2021-11-03 15:56:06\n",
            "1304  freelance writing gigs  ...                  NaN\n",
            "1305          keywordshitter  ...  2021-10-22 09:31:50\n",
            "1306                 appsumo  ...  2021-11-04 03:30:09\n",
            "1307         yeses or yes\\'s  ...  2021-10-08 11:19:54\n",
            "\n",
            "[1308 rows x 17 columns]\n"
          ]
        }
      ]
    },
    {
      "cell_type": "markdown",
      "metadata": {
        "id": "g3w47c69M5Nk"
      },
      "source": [
        "# Upload the Crawl Export\n",
        "\n",
        "If you'd like to check if keywords are in the copy (you should!) we recommend setting a custom extraction as shown in the image below:\n",
        "\n",
        "1.   The extractor MUST be named 'Copy' as below\n",
        "2.   'Extract Text' must be choosen from the drop down\n",
        "\n",
        "![](https://drive.google.com/uc?export=view&id=16SVAm_k3QwYe9PuZGq3xywJ2smdeTMN0)\n",
        "\n",
        "For any other crawler, your csv file needs to contain the following column names: `Address` `Title 1` `H1-1` `Copy 1` `Indexability` (Optional)\n"
      ]
    },
    {
      "cell_type": "code",
      "metadata": {
        "colab": {
          "resources": {
            "http://localhost:8080/nbextensions/google.colab/files.js": {
              "data": "Ly8gQ29weXJpZ2h0IDIwMTcgR29vZ2xlIExMQwovLwovLyBMaWNlbnNlZCB1bmRlciB0aGUgQXBhY2hlIExpY2Vuc2UsIFZlcnNpb24gMi4wICh0aGUgIkxpY2Vuc2UiKTsKLy8geW91IG1heSBub3QgdXNlIHRoaXMgZmlsZSBleGNlcHQgaW4gY29tcGxpYW5jZSB3aXRoIHRoZSBMaWNlbnNlLgovLyBZb3UgbWF5IG9idGFpbiBhIGNvcHkgb2YgdGhlIExpY2Vuc2UgYXQKLy8KLy8gICAgICBodHRwOi8vd3d3LmFwYWNoZS5vcmcvbGljZW5zZXMvTElDRU5TRS0yLjAKLy8KLy8gVW5sZXNzIHJlcXVpcmVkIGJ5IGFwcGxpY2FibGUgbGF3IG9yIGFncmVlZCB0byBpbiB3cml0aW5nLCBzb2Z0d2FyZQovLyBkaXN0cmlidXRlZCB1bmRlciB0aGUgTGljZW5zZSBpcyBkaXN0cmlidXRlZCBvbiBhbiAiQVMgSVMiIEJBU0lTLAovLyBXSVRIT1VUIFdBUlJBTlRJRVMgT1IgQ09ORElUSU9OUyBPRiBBTlkgS0lORCwgZWl0aGVyIGV4cHJlc3Mgb3IgaW1wbGllZC4KLy8gU2VlIHRoZSBMaWNlbnNlIGZvciB0aGUgc3BlY2lmaWMgbGFuZ3VhZ2UgZ292ZXJuaW5nIHBlcm1pc3Npb25zIGFuZAovLyBsaW1pdGF0aW9ucyB1bmRlciB0aGUgTGljZW5zZS4KCi8qKgogKiBAZmlsZW92ZXJ2aWV3IEhlbHBlcnMgZm9yIGdvb2dsZS5jb2xhYiBQeXRob24gbW9kdWxlLgogKi8KKGZ1bmN0aW9uKHNjb3BlKSB7CmZ1bmN0aW9uIHNwYW4odGV4dCwgc3R5bGVBdHRyaWJ1dGVzID0ge30pIHsKICBjb25zdCBlbGVtZW50ID0gZG9jdW1lbnQuY3JlYXRlRWxlbWVudCgnc3BhbicpOwogIGVsZW1lbnQudGV4dENvbnRlbnQgPSB0ZXh0OwogIGZvciAoY29uc3Qga2V5IG9mIE9iamVjdC5rZXlzKHN0eWxlQXR0cmlidXRlcykpIHsKICAgIGVsZW1lbnQuc3R5bGVba2V5XSA9IHN0eWxlQXR0cmlidXRlc1trZXldOwogIH0KICByZXR1cm4gZWxlbWVudDsKfQoKLy8gTWF4IG51bWJlciBvZiBieXRlcyB3aGljaCB3aWxsIGJlIHVwbG9hZGVkIGF0IGEgdGltZS4KY29uc3QgTUFYX1BBWUxPQURfU0laRSA9IDEwMCAqIDEwMjQ7CgpmdW5jdGlvbiBfdXBsb2FkRmlsZXMoaW5wdXRJZCwgb3V0cHV0SWQpIHsKICBjb25zdCBzdGVwcyA9IHVwbG9hZEZpbGVzU3RlcChpbnB1dElkLCBvdXRwdXRJZCk7CiAgY29uc3Qgb3V0cHV0RWxlbWVudCA9IGRvY3VtZW50LmdldEVsZW1lbnRCeUlkKG91dHB1dElkKTsKICAvLyBDYWNoZSBzdGVwcyBvbiB0aGUgb3V0cHV0RWxlbWVudCB0byBtYWtlIGl0IGF2YWlsYWJsZSBmb3IgdGhlIG5leHQgY2FsbAogIC8vIHRvIHVwbG9hZEZpbGVzQ29udGludWUgZnJvbSBQeXRob24uCiAgb3V0cHV0RWxlbWVudC5zdGVwcyA9IHN0ZXBzOwoKICByZXR1cm4gX3VwbG9hZEZpbGVzQ29udGludWUob3V0cHV0SWQpOwp9CgovLyBUaGlzIGlzIHJvdWdobHkgYW4gYXN5bmMgZ2VuZXJhdG9yIChub3Qgc3VwcG9ydGVkIGluIHRoZSBicm93c2VyIHlldCksCi8vIHdoZXJlIHRoZXJlIGFyZSBtdWx0aXBsZSBhc3luY2hyb25vdXMgc3RlcHMgYW5kIHRoZSBQeXRob24gc2lkZSBpcyBnb2luZwovLyB0byBwb2xsIGZvciBjb21wbGV0aW9uIG9mIGVhY2ggc3RlcC4KLy8gVGhpcyB1c2VzIGEgUHJvbWlzZSB0byBibG9jayB0aGUgcHl0aG9uIHNpZGUgb24gY29tcGxldGlvbiBvZiBlYWNoIHN0ZXAsCi8vIHRoZW4gcGFzc2VzIHRoZSByZXN1bHQgb2YgdGhlIHByZXZpb3VzIHN0ZXAgYXMgdGhlIGlucHV0IHRvIHRoZSBuZXh0IHN0ZXAuCmZ1bmN0aW9uIF91cGxvYWRGaWxlc0NvbnRpbnVlKG91dHB1dElkKSB7CiAgY29uc3Qgb3V0cHV0RWxlbWVudCA9IGRvY3VtZW50LmdldEVsZW1lbnRCeUlkKG91dHB1dElkKTsKICBjb25zdCBzdGVwcyA9IG91dHB1dEVsZW1lbnQuc3RlcHM7CgogIGNvbnN0IG5leHQgPSBzdGVwcy5uZXh0KG91dHB1dEVsZW1lbnQubGFzdFByb21pc2VWYWx1ZSk7CiAgcmV0dXJuIFByb21pc2UucmVzb2x2ZShuZXh0LnZhbHVlLnByb21pc2UpLnRoZW4oKHZhbHVlKSA9PiB7CiAgICAvLyBDYWNoZSB0aGUgbGFzdCBwcm9taXNlIHZhbHVlIHRvIG1ha2UgaXQgYXZhaWxhYmxlIHRvIHRoZSBuZXh0CiAgICAvLyBzdGVwIG9mIHRoZSBnZW5lcmF0b3IuCiAgICBvdXRwdXRFbGVtZW50Lmxhc3RQcm9taXNlVmFsdWUgPSB2YWx1ZTsKICAgIHJldHVybiBuZXh0LnZhbHVlLnJlc3BvbnNlOwogIH0pOwp9CgovKioKICogR2VuZXJhdG9yIGZ1bmN0aW9uIHdoaWNoIGlzIGNhbGxlZCBiZXR3ZWVuIGVhY2ggYXN5bmMgc3RlcCBvZiB0aGUgdXBsb2FkCiAqIHByb2Nlc3MuCiAqIEBwYXJhbSB7c3RyaW5nfSBpbnB1dElkIEVsZW1lbnQgSUQgb2YgdGhlIGlucHV0IGZpbGUgcGlja2VyIGVsZW1lbnQuCiAqIEBwYXJhbSB7c3RyaW5nfSBvdXRwdXRJZCBFbGVtZW50IElEIG9mIHRoZSBvdXRwdXQgZGlzcGxheS4KICogQHJldHVybiB7IUl0ZXJhYmxlPCFPYmplY3Q+fSBJdGVyYWJsZSBvZiBuZXh0IHN0ZXBzLgogKi8KZnVuY3Rpb24qIHVwbG9hZEZpbGVzU3RlcChpbnB1dElkLCBvdXRwdXRJZCkgewogIGNvbnN0IGlucHV0RWxlbWVudCA9IGRvY3VtZW50LmdldEVsZW1lbnRCeUlkKGlucHV0SWQpOwogIGlucHV0RWxlbWVudC5kaXNhYmxlZCA9IGZhbHNlOwoKICBjb25zdCBvdXRwdXRFbGVtZW50ID0gZG9jdW1lbnQuZ2V0RWxlbWVudEJ5SWQob3V0cHV0SWQpOwogIG91dHB1dEVsZW1lbnQuaW5uZXJIVE1MID0gJyc7CgogIGNvbnN0IHBpY2tlZFByb21pc2UgPSBuZXcgUHJvbWlzZSgocmVzb2x2ZSkgPT4gewogICAgaW5wdXRFbGVtZW50LmFkZEV2ZW50TGlzdGVuZXIoJ2NoYW5nZScsIChlKSA9PiB7CiAgICAgIHJlc29sdmUoZS50YXJnZXQuZmlsZXMpOwogICAgfSk7CiAgfSk7CgogIGNvbnN0IGNhbmNlbCA9IGRvY3VtZW50LmNyZWF0ZUVsZW1lbnQoJ2J1dHRvbicpOwogIGlucHV0RWxlbWVudC5wYXJlbnRFbGVtZW50LmFwcGVuZENoaWxkKGNhbmNlbCk7CiAgY2FuY2VsLnRleHRDb250ZW50ID0gJ0NhbmNlbCB1cGxvYWQnOwogIGNvbnN0IGNhbmNlbFByb21pc2UgPSBuZXcgUHJvbWlzZSgocmVzb2x2ZSkgPT4gewogICAgY2FuY2VsLm9uY2xpY2sgPSAoKSA9PiB7CiAgICAgIHJlc29sdmUobnVsbCk7CiAgICB9OwogIH0pOwoKICAvLyBXYWl0IGZvciB0aGUgdXNlciB0byBwaWNrIHRoZSBmaWxlcy4KICBjb25zdCBmaWxlcyA9IHlpZWxkIHsKICAgIHByb21pc2U6IFByb21pc2UucmFjZShbcGlja2VkUHJvbWlzZSwgY2FuY2VsUHJvbWlzZV0pLAogICAgcmVzcG9uc2U6IHsKICAgICAgYWN0aW9uOiAnc3RhcnRpbmcnLAogICAgfQogIH07CgogIGNhbmNlbC5yZW1vdmUoKTsKCiAgLy8gRGlzYWJsZSB0aGUgaW5wdXQgZWxlbWVudCBzaW5jZSBmdXJ0aGVyIHBpY2tzIGFyZSBub3QgYWxsb3dlZC4KICBpbnB1dEVsZW1lbnQuZGlzYWJsZWQgPSB0cnVlOwoKICBpZiAoIWZpbGVzKSB7CiAgICByZXR1cm4gewogICAgICByZXNwb25zZTogewogICAgICAgIGFjdGlvbjogJ2NvbXBsZXRlJywKICAgICAgfQogICAgfTsKICB9CgogIGZvciAoY29uc3QgZmlsZSBvZiBmaWxlcykgewogICAgY29uc3QgbGkgPSBkb2N1bWVudC5jcmVhdGVFbGVtZW50KCdsaScpOwogICAgbGkuYXBwZW5kKHNwYW4oZmlsZS5uYW1lLCB7Zm9udFdlaWdodDogJ2JvbGQnfSkpOwogICAgbGkuYXBwZW5kKHNwYW4oCiAgICAgICAgYCgke2ZpbGUudHlwZSB8fCAnbi9hJ30pIC0gJHtmaWxlLnNpemV9IGJ5dGVzLCBgICsKICAgICAgICBgbGFzdCBtb2RpZmllZDogJHsKICAgICAgICAgICAgZmlsZS5sYXN0TW9kaWZpZWREYXRlID8gZmlsZS5sYXN0TW9kaWZpZWREYXRlLnRvTG9jYWxlRGF0ZVN0cmluZygpIDoKICAgICAgICAgICAgICAgICAgICAgICAgICAgICAgICAgICAgJ24vYSd9IC0gYCkpOwogICAgY29uc3QgcGVyY2VudCA9IHNwYW4oJzAlIGRvbmUnKTsKICAgIGxpLmFwcGVuZENoaWxkKHBlcmNlbnQpOwoKICAgIG91dHB1dEVsZW1lbnQuYXBwZW5kQ2hpbGQobGkpOwoKICAgIGNvbnN0IGZpbGVEYXRhUHJvbWlzZSA9IG5ldyBQcm9taXNlKChyZXNvbHZlKSA9PiB7CiAgICAgIGNvbnN0IHJlYWRlciA9IG5ldyBGaWxlUmVhZGVyKCk7CiAgICAgIHJlYWRlci5vbmxvYWQgPSAoZSkgPT4gewogICAgICAgIHJlc29sdmUoZS50YXJnZXQucmVzdWx0KTsKICAgICAgfTsKICAgICAgcmVhZGVyLnJlYWRBc0FycmF5QnVmZmVyKGZpbGUpOwogICAgfSk7CiAgICAvLyBXYWl0IGZvciB0aGUgZGF0YSB0byBiZSByZWFkeS4KICAgIGxldCBmaWxlRGF0YSA9IHlpZWxkIHsKICAgICAgcHJvbWlzZTogZmlsZURhdGFQcm9taXNlLAogICAgICByZXNwb25zZTogewogICAgICAgIGFjdGlvbjogJ2NvbnRpbnVlJywKICAgICAgfQogICAgfTsKCiAgICAvLyBVc2UgYSBjaHVua2VkIHNlbmRpbmcgdG8gYXZvaWQgbWVzc2FnZSBzaXplIGxpbWl0cy4gU2VlIGIvNjIxMTU2NjAuCiAgICBsZXQgcG9zaXRpb24gPSAwOwogICAgZG8gewogICAgICBjb25zdCBsZW5ndGggPSBNYXRoLm1pbihmaWxlRGF0YS5ieXRlTGVuZ3RoIC0gcG9zaXRpb24sIE1BWF9QQVlMT0FEX1NJWkUpOwogICAgICBjb25zdCBjaHVuayA9IG5ldyBVaW50OEFycmF5KGZpbGVEYXRhLCBwb3NpdGlvbiwgbGVuZ3RoKTsKICAgICAgcG9zaXRpb24gKz0gbGVuZ3RoOwoKICAgICAgY29uc3QgYmFzZTY0ID0gYnRvYShTdHJpbmcuZnJvbUNoYXJDb2RlLmFwcGx5KG51bGwsIGNodW5rKSk7CiAgICAgIHlpZWxkIHsKICAgICAgICByZXNwb25zZTogewogICAgICAgICAgYWN0aW9uOiAnYXBwZW5kJywKICAgICAgICAgIGZpbGU6IGZpbGUubmFtZSwKICAgICAgICAgIGRhdGE6IGJhc2U2NCwKICAgICAgICB9LAogICAgICB9OwoKICAgICAgbGV0IHBlcmNlbnREb25lID0gZmlsZURhdGEuYnl0ZUxlbmd0aCA9PT0gMCA/CiAgICAgICAgICAxMDAgOgogICAgICAgICAgTWF0aC5yb3VuZCgocG9zaXRpb24gLyBmaWxlRGF0YS5ieXRlTGVuZ3RoKSAqIDEwMCk7CiAgICAgIHBlcmNlbnQudGV4dENvbnRlbnQgPSBgJHtwZXJjZW50RG9uZX0lIGRvbmVgOwoKICAgIH0gd2hpbGUgKHBvc2l0aW9uIDwgZmlsZURhdGEuYnl0ZUxlbmd0aCk7CiAgfQoKICAvLyBBbGwgZG9uZS4KICB5aWVsZCB7CiAgICByZXNwb25zZTogewogICAgICBhY3Rpb246ICdjb21wbGV0ZScsCiAgICB9CiAgfTsKfQoKc2NvcGUuZ29vZ2xlID0gc2NvcGUuZ29vZ2xlIHx8IHt9OwpzY29wZS5nb29nbGUuY29sYWIgPSBzY29wZS5nb29nbGUuY29sYWIgfHwge307CnNjb3BlLmdvb2dsZS5jb2xhYi5fZmlsZXMgPSB7CiAgX3VwbG9hZEZpbGVzLAogIF91cGxvYWRGaWxlc0NvbnRpbnVlLAp9Owp9KShzZWxmKTsK",
              "ok": true,
              "headers": [
                [
                  "content-type",
                  "application/javascript"
                ]
              ],
              "status": 200,
              "status_text": ""
            }
          },
          "base_uri": "https://localhost:8080/",
          "height": 225
        },
        "id": "CStyBM1YELWg",
        "outputId": "f90d63ee-41f0-47dd-c4de-01f42fcafd06"
      },
      "source": [
        "# upload the crawl export from Screaming Frog\n",
        "upload = files.upload()\n",
        "upload = list(upload.keys())[0]  # get the name of the uploaded file\n",
        "df_crawl = pd.read_csv(\n",
        "    (upload),\n",
        "        error_bad_lines=False,\n",
        "        low_memory=False,\n",
        "        encoding=\"utf8\",\n",
        "        dtype=\"str\",\n",
        "    )\n",
        "\n",
        "print(\"Uploaded Crawl Dataframe Successfully!\")\n",
        "print(df_crawl.head())"
      ],
      "execution_count": 107,
      "outputs": [
        {
          "output_type": "display_data",
          "data": {
            "text/html": [
              "\n",
              "     <input type=\"file\" id=\"files-ccce92d2-cea6-4480-8312-282c92e0c59f\" name=\"files[]\" multiple disabled\n",
              "        style=\"border:none\" />\n",
              "     <output id=\"result-ccce92d2-cea6-4480-8312-282c92e0c59f\">\n",
              "      Upload widget is only available when the cell has been executed in the\n",
              "      current browser session. Please rerun this cell to enable.\n",
              "      </output>\n",
              "      <script src=\"/nbextensions/google.colab/files.js\"></script> "
            ],
            "text/plain": [
              "<IPython.core.display.HTML object>"
            ]
          },
          "metadata": {}
        },
        {
          "output_type": "stream",
          "name": "stdout",
          "text": [
            "Saving internal_html - internal_html.csv to internal_html - internal_html (1).csv\n",
            "Uploaded Crawl Dataframe Successfully!\n",
            "                                             Address  ...      Crawl Timestamp\n",
            "0                           https://procopytips.com/  ...  2021-11-04 12:57:06\n",
            "1  https://procopytips.com/a-forest-copywriting-f...  ...  2021-11-04 12:57:07\n",
            "2                      https://procopytips.com/blog/  ...  2021-11-04 12:57:07\n",
            "3     https://procopytips.com/copywriting-resources/  ...  2021-11-04 12:57:08\n",
            "4        https://procopytips.com/author/wpx_rebekah/  ...  2021-11-04 12:57:07\n",
            "\n",
            "[5 rows x 58 columns]\n"
          ]
        }
      ]
    },
    {
      "cell_type": "markdown",
      "metadata": {
        "id": "Ca2WrMATNkUr"
      },
      "source": [
        "# Clean the Keyword Dataframe"
      ]
    },
    {
      "cell_type": "code",
      "metadata": {
        "colab": {
          "base_uri": "https://localhost:8080/"
        },
        "id": "NI_ylSxJLvY9",
        "outputId": "e15c0076-d836-4805-db93-f4ecfb8ca649"
      },
      "source": [
        "# standardise the column names between the different input files\n",
        "df_keywords.rename(\n",
        "    columns={\n",
        "        \"Current position\": \"Position\",\n",
        "        \"Current URL\": \"URL\",\n",
        "        \"Search Volume\": \"Volume\",\n",
        "        \"Volume (desc)\": \"Volume\",\n",
        "        \"Volume (asc)\": \"Volume\",\n",
        "    },\n",
        "    inplace=True,\n",
        ")\n",
        "\n",
        "# keep only the following columns from the keyword dataframe\n",
        "cols = \"URL\", \"Keyword\", \"Volume\", \"Position\"\n",
        "df_keywords = df_keywords.reindex(columns=cols)\n",
        "\n",
        "try:\n",
        "    # clean the data. (v1 of the ahrefs keyword export combines strings and ints in the volume column)\n",
        "    df_keywords[\"Volume\"] = df_keywords[\"Volume\"].str.replace(\"0-10\", \"0\")\n",
        "except AttributeError:\n",
        "    pass\n",
        "\n",
        "# clean the keyword data\n",
        "df_keywords = df_keywords[df_keywords[\"URL\"].notna()]  # remove any missing values\n",
        "df_keywords = df_keywords[df_keywords[\"Volume\"].notna()]  # remove any missing values\n",
        "df_keywords = df_keywords.astype({\"Volume\": int})  # change data type to int\n",
        "df_keywords = df_keywords.sort_values(by=\"Volume\", ascending=False)  # sort by highest vol to keep the top opportunity\n",
        "\n",
        "# make new dataframe to merge search volume back in later\n",
        "df_keyword_vol = df_keywords[[\"Keyword\", \"Volume\"]]\n",
        "\n",
        "# drop rows if minimum search volume doesn't match specified criteria\n",
        "try:\n",
        "  df_keywords.loc[df_keywords[\"Volume\"] < min_volume, \"Volume_Too_Low\"] = \"drop\"\n",
        "  df_keywords = df_keywords[~df_keywords[\"Volume_Too_Low\"].isin([\"drop\"])]\n",
        "except ValueError:\n",
        "  print(\"Please Check if 'Volume' Column is Named Correctly!\")\n",
        "  pass\n",
        "\n",
        "# drop rows if minimum search position doesn't match specified criteria\n",
        "df_keywords.loc[df_keywords[\"Position\"] <= min_position, \"Position_Too_High\"] = \"drop\"\n",
        "df_keywords = df_keywords[~df_keywords[\"Position_Too_High\"].isin([\"drop\"])]\n",
        "\n",
        "# drop rows if maximum search position doesn't match specified criteria\n",
        "df_keywords.loc[df_keywords[\"Position\"] >= max_position, \"Position_Too_Low\"] = \"drop\"\n",
        "df_keywords = df_keywords[~df_keywords[\"Position_Too_Low\"].isin([\"drop\"])]\n",
        "\n",
        "print(df_keywords)"
      ],
      "execution_count": 108,
      "outputs": [
        {
          "output_type": "stream",
          "name": "stdout",
          "text": [
            "                                                    URL  ... Position_Too_Low\n",
            "938              https://procopytips.com/flys-or-flies/  ...              NaN\n",
            "1306            https://procopytips.com/appsumo-review/  ...              NaN\n",
            "0                https://procopytips.com/flys-or-flies/  ...              NaN\n",
            "254               https://procopytips.com/lets-vs-lets/  ...              NaN\n",
            "456          https://procopytips.com/per-se-or-per-say/  ...              NaN\n",
            "...                                                 ...  ...              ...\n",
            "859     https://procopytips.com/freelance-writing-jobs/  ...              NaN\n",
            "430     https://procopytips.com/freelance-writing-jobs/  ...              NaN\n",
            "868     https://procopytips.com/freelance-writing-jobs/  ...              NaN\n",
            "869             https://procopytips.com/appsumo-review/  ...              NaN\n",
            "1041  https://procopytips.com/energize-creative-powers/  ...              NaN\n",
            "\n",
            "[1098 rows x 7 columns]\n"
          ]
        }
      ]
    },
    {
      "cell_type": "markdown",
      "metadata": {
        "id": "Irej-d35NrKS"
      },
      "source": [
        "# Clean the Crawl Dataframe"
      ]
    },
    {
      "cell_type": "code",
      "metadata": {
        "colab": {
          "base_uri": "https://localhost:8080/",
          "height": 204
        },
        "id": "0VoShXzRNruE",
        "outputId": "fecc0076-7679-4f0d-a510-329bb8a05dcb"
      },
      "source": [
        "# keep only the following columns from the crawl dataframe\n",
        "cols = \"Address\", \"Indexability\", \"Title 1\", \"H1-1\", \"Copy 1\"\n",
        "df_crawl = df_crawl.reindex(columns=cols)\n",
        "\n",
        "# drop non-indexable rows\n",
        "df_crawl = df_crawl[~df_crawl[\"Indexability\"].isin([\"Non-Indexable\"])]\n",
        "\n",
        "# drop pagination\n",
        "df_crawl = df_crawl[~df_crawl.Address.str.contains(pagination_filters)]\n",
        "\n",
        "# standardise the column names\n",
        "df_crawl.rename(columns={\"Address\": \"URL\", \"Title 1\": \"Title\", \"H1-1\": \"H1\", \"Copy 1\": \"Copy\"}, inplace=True)\n",
        "df_crawl.head()"
      ],
      "execution_count": 109,
      "outputs": [
        {
          "output_type": "execute_result",
          "data": {
            "text/html": [
              "<div>\n",
              "<style scoped>\n",
              "    .dataframe tbody tr th:only-of-type {\n",
              "        vertical-align: middle;\n",
              "    }\n",
              "\n",
              "    .dataframe tbody tr th {\n",
              "        vertical-align: top;\n",
              "    }\n",
              "\n",
              "    .dataframe thead th {\n",
              "        text-align: right;\n",
              "    }\n",
              "</style>\n",
              "<table border=\"1\" class=\"dataframe\">\n",
              "  <thead>\n",
              "    <tr style=\"text-align: right;\">\n",
              "      <th></th>\n",
              "      <th>URL</th>\n",
              "      <th>Indexability</th>\n",
              "      <th>Title</th>\n",
              "      <th>H1</th>\n",
              "      <th>Copy</th>\n",
              "    </tr>\n",
              "  </thead>\n",
              "  <tbody>\n",
              "    <tr>\n",
              "      <th>0</th>\n",
              "      <td>https://procopytips.com/</td>\n",
              "      <td>Indexable</td>\n",
              "      <td>Home - ProCopyTips</td>\n",
              "      <td>Making Ordinary Copy Extraordinary</td>\n",
              "      <td>Making Ordinary Copy Extraordinary Whether you...</td>\n",
              "    </tr>\n",
              "    <tr>\n",
              "      <th>1</th>\n",
              "      <td>https://procopytips.com/a-forest-copywriting-f...</td>\n",
              "      <td>Indexable</td>\n",
              "      <td>The A FOREST Copywriting Formula - ProCopyTips</td>\n",
              "      <td>The A FOREST Copywriting Formula</td>\n",
              "      <td>The A FOREST copywriting formula is a mnemonic...</td>\n",
              "    </tr>\n",
              "    <tr>\n",
              "      <th>2</th>\n",
              "      <td>https://procopytips.com/blog/</td>\n",
              "      <td>Indexable</td>\n",
              "      <td>Blog - ProCopyTips</td>\n",
              "      <td>NaN</td>\n",
              "      <td>NaN</td>\n",
              "    </tr>\n",
              "    <tr>\n",
              "      <th>3</th>\n",
              "      <td>https://procopytips.com/copywriting-resources/</td>\n",
              "      <td>Indexable</td>\n",
              "      <td>Copywriting Resources - ProCopyTips</td>\n",
              "      <td>Copywriting Resources</td>\n",
              "      <td>We’ll keep adding to this page as we add more ...</td>\n",
              "    </tr>\n",
              "    <tr>\n",
              "      <th>4</th>\n",
              "      <td>https://procopytips.com/author/wpx_rebekah/</td>\n",
              "      <td>Indexable</td>\n",
              "      <td>Rebekah Villon - ProCopyTips</td>\n",
              "      <td>Rebekah Villon</td>\n",
              "      <td>NaN</td>\n",
              "    </tr>\n",
              "  </tbody>\n",
              "</table>\n",
              "</div>"
            ],
            "text/plain": [
              "                                                 URL  ...                                               Copy\n",
              "0                           https://procopytips.com/  ...  Making Ordinary Copy Extraordinary Whether you...\n",
              "1  https://procopytips.com/a-forest-copywriting-f...  ...  The A FOREST copywriting formula is a mnemonic...\n",
              "2                      https://procopytips.com/blog/  ...                                                NaN\n",
              "3     https://procopytips.com/copywriting-resources/  ...  We’ll keep adding to this page as we add more ...\n",
              "4        https://procopytips.com/author/wpx_rebekah/  ...                                                NaN\n",
              "\n",
              "[5 rows x 5 columns]"
            ]
          },
          "metadata": {},
          "execution_count": 109
        }
      ]
    },
    {
      "cell_type": "code",
      "metadata": {
        "id": "YCDi8nA1BNdg"
      },
      "source": [
        ""
      ],
      "execution_count": null,
      "outputs": []
    },
    {
      "cell_type": "markdown",
      "metadata": {
        "id": "1i_SzktLN7jO"
      },
      "source": [
        "# Group the Keywords"
      ]
    },
    {
      "cell_type": "code",
      "metadata": {
        "colab": {
          "base_uri": "https://localhost:8080/",
          "height": 204
        },
        "id": "3-_ZhF86EmBW",
        "outputId": "718eac65-d6c5-4506-a837-2759c94c6046"
      },
      "source": [
        "# groups the URLs (remove the dupes and combines stats)\n",
        "# make a copy of the keywords dataframe for grouping - this ensures stats can be merged back in later from the OG df\n",
        "df_keywords_group = df_keywords.copy()\n",
        "df_keywords_group[\"KWs in Striking Dist.\"] = 1  # used to count the number of keywords in striking distance\n",
        "df_keywords_group = (\n",
        "    df_keywords_group.groupby(\"URL\")\n",
        "    .agg({\"Volume\": \"sum\", \"KWs in Striking Dist.\": \"count\"})\n",
        "    .reset_index()\n",
        ")\n",
        "df_keywords_group.head()"
      ],
      "execution_count": 110,
      "outputs": [
        {
          "output_type": "execute_result",
          "data": {
            "text/html": [
              "<div>\n",
              "<style scoped>\n",
              "    .dataframe tbody tr th:only-of-type {\n",
              "        vertical-align: middle;\n",
              "    }\n",
              "\n",
              "    .dataframe tbody tr th {\n",
              "        vertical-align: top;\n",
              "    }\n",
              "\n",
              "    .dataframe thead th {\n",
              "        text-align: right;\n",
              "    }\n",
              "</style>\n",
              "<table border=\"1\" class=\"dataframe\">\n",
              "  <thead>\n",
              "    <tr style=\"text-align: right;\">\n",
              "      <th></th>\n",
              "      <th>URL</th>\n",
              "      <th>Volume</th>\n",
              "      <th>KWs in Striking Dist.</th>\n",
              "    </tr>\n",
              "  </thead>\n",
              "  <tbody>\n",
              "    <tr>\n",
              "      <th>0</th>\n",
              "      <td>https://procopytips.com/</td>\n",
              "      <td>2890</td>\n",
              "      <td>5</td>\n",
              "    </tr>\n",
              "    <tr>\n",
              "      <th>1</th>\n",
              "      <td>https://procopytips.com/3-whys/</td>\n",
              "      <td>110</td>\n",
              "      <td>2</td>\n",
              "    </tr>\n",
              "    <tr>\n",
              "      <th>2</th>\n",
              "      <td>https://procopytips.com/about/</td>\n",
              "      <td>30</td>\n",
              "      <td>1</td>\n",
              "    </tr>\n",
              "    <tr>\n",
              "      <th>3</th>\n",
              "      <td>https://procopytips.com/affect-change-or-effec...</td>\n",
              "      <td>12150</td>\n",
              "      <td>43</td>\n",
              "    </tr>\n",
              "    <tr>\n",
              "      <th>4</th>\n",
              "      <td>https://procopytips.com/aida-copywriting-formu...</td>\n",
              "      <td>1090</td>\n",
              "      <td>13</td>\n",
              "    </tr>\n",
              "  </tbody>\n",
              "</table>\n",
              "</div>"
            ],
            "text/plain": [
              "                                                 URL  ...  KWs in Striking Dist.\n",
              "0                           https://procopytips.com/  ...                      5\n",
              "1                    https://procopytips.com/3-whys/  ...                      2\n",
              "2                     https://procopytips.com/about/  ...                      1\n",
              "3  https://procopytips.com/affect-change-or-effec...  ...                     43\n",
              "4  https://procopytips.com/aida-copywriting-formu...  ...                     13\n",
              "\n",
              "[5 rows x 3 columns]"
            ]
          },
          "metadata": {},
          "execution_count": 110
        }
      ]
    },
    {
      "cell_type": "markdown",
      "metadata": {
        "id": "GK1ufMdmNxdK"
      },
      "source": [
        "# Display in Adjacent Rows ala Grepwords Style\n"
      ]
    },
    {
      "cell_type": "code",
      "metadata": {
        "id": "lCz6OVv9GD83"
      },
      "source": [
        "# create a new df, combine the merged data with the original data. display in adjacent rows ala grepwords\n",
        "df_merged_all_kws = df_keywords_group.merge(\n",
        "    df_keywords.groupby(\"URL\")[\"Keyword\"]\n",
        "    .apply(lambda x: x.reset_index(drop=True))\n",
        "    .unstack()\n",
        "    .reset_index()\n",
        ")\n",
        "#print(df_merged_all_kws)\n",
        "# sort by biggest opportunity\n",
        "df_merged_all_kws = df_merged_all_kws.sort_values(\n",
        "    by=\"KWs in Striking Dist.\", ascending=False\n",
        ")\n",
        "\n",
        "# reindex the columns to keep just the top five keywords\n",
        "cols = \"URL\", \"Volume\", \"KWs in Striking Dist.\", 0, 1, 2, 3, 4\n",
        "df_merged_all_kws = df_merged_all_kws.reindex(columns=cols)\n",
        "\n",
        "# create union and rename the columns\n",
        "df_striking: Union[Series, DataFrame, None] = df_merged_all_kws.rename(\n",
        "    columns={\n",
        "        \"Volume\": \"Striking Dist. Vol\",\n",
        "        0: \"KW1\",\n",
        "        1: \"KW2\",\n",
        "        2: \"KW3\",\n",
        "        3: \"KW4\",\n",
        "        4: \"KW5\",\n",
        "    }\n",
        ")\n",
        "\n",
        "# merges striking distance df with crawl df to merge in the title, h1 and category description\n",
        "df_striking = pd.merge(df_striking, df_crawl, on=\"URL\", how=\"inner\")"
      ],
      "execution_count": 111,
      "outputs": []
    },
    {
      "cell_type": "code",
      "metadata": {
        "id": "LXcRe_O2GE0X"
      },
      "source": [
        "# set the final column order and merge the keyword data in\n",
        "cols = [\n",
        "    \"URL\",\n",
        "    \"Title\",\n",
        "    \"H1\",\n",
        "    \"Copy\",\n",
        "    \"Striking Dist. Vol\",\n",
        "    \"KWs in Striking Dist.\",\n",
        "    \"KW1\",\n",
        "    \"KW1 Vol\",\n",
        "    \"KW1 in Title\",\n",
        "    \"KW1 in H1\",\n",
        "    \"KW1 in Copy\",\n",
        "    \"KW2\",\n",
        "    \"KW2 Vol\",\n",
        "    \"KW2 in Title\",\n",
        "    \"KW2 in H1\",\n",
        "    \"KW2 in Copy\",\n",
        "    \"KW3\",\n",
        "    \"KW3 Vol\",\n",
        "    \"KW3 in Title\",\n",
        "    \"KW3 in H1\",\n",
        "    \"KW3 in Copy\",\n",
        "    \"KW4\",\n",
        "    \"KW4 Vol\",\n",
        "    \"KW4 in Title\",\n",
        "    \"KW4 in H1\",\n",
        "    \"KW4 in Copy\",\n",
        "    \"KW5\",\n",
        "    \"KW5 Vol\",\n",
        "    \"KW5 in Title\",\n",
        "    \"KW5 in H1\",\n",
        "    \"KW5 in Copy\",\n",
        "]\n",
        "# re-index the columns to place them in a logical order + inserts new blank columns for kw checks.\n",
        "df_striking = df_striking.reindex(columns=cols)"
      ],
      "execution_count": 112,
      "outputs": []
    },
    {
      "cell_type": "code",
      "metadata": {
        "id": "C_p1eyD2GM8A"
      },
      "source": [
        "#merge in keyword data for each keyword column (KW1 - KW5)\n",
        "df_striking = pd.merge(df_striking, df_keyword_vol, left_on=\"KW1\", right_on=\"Keyword\", how=\"left\")\n",
        "df_striking['KW1 Vol'] = df_striking['Volume']\n",
        "df_striking.drop(['Keyword', 'Volume'], axis=1, inplace=True)\n",
        "df_striking = pd.merge(df_striking, df_keyword_vol, left_on=\"KW2\", right_on=\"Keyword\", how=\"left\")\n",
        "df_striking['KW2 Vol'] = df_striking['Volume']\n",
        "df_striking.drop(['Keyword', 'Volume'], axis=1, inplace=True)\n",
        "df_striking = pd.merge(df_striking, df_keyword_vol, left_on=\"KW3\", right_on=\"Keyword\", how=\"left\")\n",
        "df_striking['KW3 Vol'] = df_striking['Volume']\n",
        "df_striking.drop(['Keyword', 'Volume'], axis=1, inplace=True)\n",
        "df_striking = pd.merge(df_striking, df_keyword_vol, left_on=\"KW4\", right_on=\"Keyword\", how=\"left\")\n",
        "df_striking['KW4 Vol'] = df_striking['Volume']\n",
        "df_striking.drop(['Keyword', 'Volume'], axis=1, inplace=True)\n",
        "df_striking = pd.merge(df_striking, df_keyword_vol, left_on=\"KW5\", right_on=\"Keyword\", how=\"left\")\n",
        "df_striking['KW5 Vol'] = df_striking['Volume']\n",
        "df_striking.drop(['Keyword', 'Volume'], axis=1, inplace=True)\n"
      ],
      "execution_count": 113,
      "outputs": []
    },
    {
      "cell_type": "code",
      "metadata": {
        "id": "w3mrPQChGPbY"
      },
      "source": [
        "# drop duplciate url rows\n",
        "df_striking.drop_duplicates(subset=\"URL\", inplace=True) \n",
        "\n",
        "# replace nan values with empty strings\n",
        "df_striking = df_striking.fillna(\"\")\n",
        "\n",
        "# drop the title, h1 and category description to lower case so kws can be matched to them\n",
        "df_striking[\"Title\"] = df_striking[\"Title\"].str.lower()\n",
        "df_striking[\"H1\"] = df_striking[\"H1\"].str.lower()\n",
        "df_striking[\"Copy\"] = df_striking[\"Copy\"].str.lower()"
      ],
      "execution_count": 114,
      "outputs": []
    },
    {
      "cell_type": "code",
      "metadata": {
        "colab": {
          "base_uri": "https://localhost:8080/",
          "height": 632
        },
        "id": "J-ubrvmmGRHY",
        "outputId": "27550788-08a5-4b37-ba50-6c93f8605fcc"
      },
      "source": [
        "# check whether a keyword appears in title, h1 or category description\n",
        "df_striking[\"KW1 in Title\"] = df_striking.apply(lambda row: row[\"KW1\"] in row[\"Title\"], axis=1)\n",
        "df_striking[\"KW1 in H1\"] = df_striking.apply(lambda row: row[\"KW1\"] in row[\"H1\"], axis=1)\n",
        "df_striking[\"KW1 in Copy\"] = df_striking.apply(lambda row: row[\"KW1\"] in row[\"Copy\"], axis=1)\n",
        "df_striking[\"KW2 in Title\"] = df_striking.apply(lambda row: row[\"KW2\"] in row[\"Title\"], axis=1)\n",
        "df_striking[\"KW2 in H1\"] = df_striking.apply(lambda row: row[\"KW2\"] in row[\"H1\"], axis=1)\n",
        "df_striking[\"KW2 in Copy\"] = df_striking.apply(lambda row: row[\"KW2\"] in row[\"Copy\"], axis=1)\n",
        "df_striking[\"KW3 in Title\"] = df_striking.apply(lambda row: row[\"KW3\"] in row[\"Title\"], axis=1)\n",
        "df_striking[\"KW3 in H1\"] = df_striking.apply(lambda row: row[\"KW3\"] in row[\"H1\"], axis=1)\n",
        "df_striking[\"KW3 in Copy\"] = df_striking.apply(lambda row: row[\"KW3\"] in row[\"Copy\"], axis=1)\n",
        "df_striking[\"KW4 in Title\"] = df_striking.apply(lambda row: row[\"KW4\"] in row[\"Title\"], axis=1)\n",
        "df_striking[\"KW4 in H1\"] = df_striking.apply(lambda row: row[\"KW4\"] in row[\"H1\"], axis=1)\n",
        "df_striking[\"KW4 in Copy\"] = df_striking.apply(lambda row: row[\"KW4\"] in row[\"Copy\"], axis=1)\n",
        "df_striking[\"KW5 in Title\"] = df_striking.apply(lambda row: row[\"KW5\"] in row[\"Title\"], axis=1)\n",
        "df_striking[\"KW5 in H1\"] = df_striking.apply(lambda row: row[\"KW5\"] in row[\"H1\"], axis=1)\n",
        "df_striking[\"KW5 in Copy\"] = df_striking.apply(lambda row: row[\"KW5\"] in row[\"Copy\"], axis=1)\n",
        "\n",
        "# delete true / false values if there is no keyword\n",
        "df_striking.loc[df_striking[\"KW1\"] == \"\", [\"KW1 in Title\", \"KW1 in H1\", \"KW1 in Copy\"]] = \"\"\n",
        "df_striking.loc[df_striking[\"KW2\"] == \"\", [\"KW2 in Title\", \"KW2 in H1\", \"KW2 in Copy\"]] = \"\"\n",
        "df_striking.loc[df_striking[\"KW3\"] == \"\", [\"KW3 in Title\", \"KW3 in H1\", \"KW3 in Copy\"]] = \"\"\n",
        "df_striking.loc[df_striking[\"KW4\"] == \"\", [\"KW4 in Title\", \"KW4 in H1\", \"KW4 in Copy\"]] = \"\"\n",
        "df_striking.loc[df_striking[\"KW5\"] == \"\", [\"KW5 in Title\", \"KW5 in H1\", \"KW5 in Copy\"]] = \"\"\n",
        "df_striking.head()"
      ],
      "execution_count": 115,
      "outputs": [
        {
          "output_type": "execute_result",
          "data": {
            "text/html": [
              "<div>\n",
              "<style scoped>\n",
              "    .dataframe tbody tr th:only-of-type {\n",
              "        vertical-align: middle;\n",
              "    }\n",
              "\n",
              "    .dataframe tbody tr th {\n",
              "        vertical-align: top;\n",
              "    }\n",
              "\n",
              "    .dataframe thead th {\n",
              "        text-align: right;\n",
              "    }\n",
              "</style>\n",
              "<table border=\"1\" class=\"dataframe\">\n",
              "  <thead>\n",
              "    <tr style=\"text-align: right;\">\n",
              "      <th></th>\n",
              "      <th>URL</th>\n",
              "      <th>Title</th>\n",
              "      <th>H1</th>\n",
              "      <th>Copy</th>\n",
              "      <th>Striking Dist. Vol</th>\n",
              "      <th>KWs in Striking Dist.</th>\n",
              "      <th>KW1</th>\n",
              "      <th>KW1 Vol</th>\n",
              "      <th>KW1 in Title</th>\n",
              "      <th>KW1 in H1</th>\n",
              "      <th>KW1 in Copy</th>\n",
              "      <th>KW2</th>\n",
              "      <th>KW2 Vol</th>\n",
              "      <th>KW2 in Title</th>\n",
              "      <th>KW2 in H1</th>\n",
              "      <th>KW2 in Copy</th>\n",
              "      <th>KW3</th>\n",
              "      <th>KW3 Vol</th>\n",
              "      <th>KW3 in Title</th>\n",
              "      <th>KW3 in H1</th>\n",
              "      <th>KW3 in Copy</th>\n",
              "      <th>KW4</th>\n",
              "      <th>KW4 Vol</th>\n",
              "      <th>KW4 in Title</th>\n",
              "      <th>KW4 in H1</th>\n",
              "      <th>KW4 in Copy</th>\n",
              "      <th>KW5</th>\n",
              "      <th>KW5 Vol</th>\n",
              "      <th>KW5 in Title</th>\n",
              "      <th>KW5 in H1</th>\n",
              "      <th>KW5 in Copy</th>\n",
              "    </tr>\n",
              "  </thead>\n",
              "  <tbody>\n",
              "    <tr>\n",
              "      <th>0</th>\n",
              "      <td>https://procopytips.com/freelance-writing-jobs/</td>\n",
              "      <td>awesome places to find paid freelance writing ...</td>\n",
              "      <td>awesome places to find paid freelance writing ...</td>\n",
              "      <td>it can be tough and time consuming to find pai...</td>\n",
              "      <td>20590</td>\n",
              "      <td>258</td>\n",
              "      <td>freelance writer jobs</td>\n",
              "      <td>2300</td>\n",
              "      <td>False</td>\n",
              "      <td>False</td>\n",
              "      <td>False</td>\n",
              "      <td>freelance writing jobs for beginners</td>\n",
              "      <td>2000</td>\n",
              "      <td>False</td>\n",
              "      <td>False</td>\n",
              "      <td>False</td>\n",
              "      <td>writing jobs online</td>\n",
              "      <td>1100</td>\n",
              "      <td>False</td>\n",
              "      <td>False</td>\n",
              "      <td>True</td>\n",
              "      <td>freelance writing jobs online</td>\n",
              "      <td>1000</td>\n",
              "      <td>False</td>\n",
              "      <td>False</td>\n",
              "      <td>True</td>\n",
              "      <td>paid online writing jobs</td>\n",
              "      <td>450</td>\n",
              "      <td>False</td>\n",
              "      <td>False</td>\n",
              "      <td>False</td>\n",
              "    </tr>\n",
              "    <tr>\n",
              "      <th>1</th>\n",
              "      <td>https://procopytips.com/tv-commercial-script/</td>\n",
              "      <td>how to write a 30-second tv commercial script ...</td>\n",
              "      <td>how to write a 30-second tv commercial script</td>\n",
              "      <td>with a tv commercial script, you have to make ...</td>\n",
              "      <td>6900</td>\n",
              "      <td>94</td>\n",
              "      <td>commercial script example</td>\n",
              "      <td>350</td>\n",
              "      <td>False</td>\n",
              "      <td>False</td>\n",
              "      <td>False</td>\n",
              "      <td>30 second commercials scripts</td>\n",
              "      <td>300</td>\n",
              "      <td>False</td>\n",
              "      <td>False</td>\n",
              "      <td>False</td>\n",
              "      <td>tv commercial scripts</td>\n",
              "      <td>300</td>\n",
              "      <td>False</td>\n",
              "      <td>False</td>\n",
              "      <td>False</td>\n",
              "      <td>ad script</td>\n",
              "      <td>250</td>\n",
              "      <td>False</td>\n",
              "      <td>False</td>\n",
              "      <td>True</td>\n",
              "      <td>30 sec commercial script</td>\n",
              "      <td>250</td>\n",
              "      <td>False</td>\n",
              "      <td>False</td>\n",
              "      <td>False</td>\n",
              "    </tr>\n",
              "    <tr>\n",
              "      <th>2</th>\n",
              "      <td>https://procopytips.com/freelance-copywriting-...</td>\n",
              "      <td>freelance copywriting fees - what and how to c...</td>\n",
              "      <td>freelance copywriting fees – what and how to c...</td>\n",
              "      <td>if you’re struggling to set the correct freela...</td>\n",
              "      <td>3680</td>\n",
              "      <td>69</td>\n",
              "      <td>freelance copywriting</td>\n",
              "      <td>450</td>\n",
              "      <td>True</td>\n",
              "      <td>True</td>\n",
              "      <td>True</td>\n",
              "      <td>what is freelance copywriting</td>\n",
              "      <td>200</td>\n",
              "      <td>False</td>\n",
              "      <td>False</td>\n",
              "      <td>False</td>\n",
              "      <td>freelance writing rates</td>\n",
              "      <td>200</td>\n",
              "      <td>False</td>\n",
              "      <td>False</td>\n",
              "      <td>True</td>\n",
              "      <td>copywriter hourly rate</td>\n",
              "      <td>150</td>\n",
              "      <td>False</td>\n",
              "      <td>False</td>\n",
              "      <td>False</td>\n",
              "      <td>freelance writer rates</td>\n",
              "      <td>100</td>\n",
              "      <td>False</td>\n",
              "      <td>False</td>\n",
              "      <td>False</td>\n",
              "    </tr>\n",
              "    <tr>\n",
              "      <th>3</th>\n",
              "      <td>https://procopytips.com/flys-or-flies/</td>\n",
              "      <td>flys or flies - what’s the difference - procop...</td>\n",
              "      <td>flys or flies – what’s the difference</td>\n",
              "      <td>using flys or flies incorrectly is a common gr...</td>\n",
              "      <td>44370</td>\n",
              "      <td>58</td>\n",
              "      <td>flys</td>\n",
              "      <td>21000</td>\n",
              "      <td>True</td>\n",
              "      <td>True</td>\n",
              "      <td>True</td>\n",
              "      <td>flys or flies</td>\n",
              "      <td>10000</td>\n",
              "      <td>True</td>\n",
              "      <td>True</td>\n",
              "      <td>True</td>\n",
              "      <td>flies or flys</td>\n",
              "      <td>5100</td>\n",
              "      <td>False</td>\n",
              "      <td>False</td>\n",
              "      <td>False</td>\n",
              "      <td>fly vs fly</td>\n",
              "      <td>2000</td>\n",
              "      <td>False</td>\n",
              "      <td>False</td>\n",
              "      <td>False</td>\n",
              "      <td>flies vs flys</td>\n",
              "      <td>700</td>\n",
              "      <td>False</td>\n",
              "      <td>False</td>\n",
              "      <td>False</td>\n",
              "    </tr>\n",
              "    <tr>\n",
              "      <th>4</th>\n",
              "      <td>https://procopytips.com/affect-change-or-effec...</td>\n",
              "      <td>affect change or effect change – which is corr...</td>\n",
              "      <td>affect change or effect change – which is corr...</td>\n",
              "      <td>the short answer as to whether to use affect c...</td>\n",
              "      <td>12150</td>\n",
              "      <td>43</td>\n",
              "      <td>effect change</td>\n",
              "      <td>3200</td>\n",
              "      <td>True</td>\n",
              "      <td>True</td>\n",
              "      <td>True</td>\n",
              "      <td>affect change</td>\n",
              "      <td>1800</td>\n",
              "      <td>True</td>\n",
              "      <td>True</td>\n",
              "      <td>True</td>\n",
              "      <td>affect change or effect change</td>\n",
              "      <td>1800</td>\n",
              "      <td>True</td>\n",
              "      <td>True</td>\n",
              "      <td>True</td>\n",
              "      <td>effect or affect change</td>\n",
              "      <td>1200</td>\n",
              "      <td>False</td>\n",
              "      <td>False</td>\n",
              "      <td>False</td>\n",
              "      <td>effect change or affect change</td>\n",
              "      <td>600</td>\n",
              "      <td>False</td>\n",
              "      <td>False</td>\n",
              "      <td>False</td>\n",
              "    </tr>\n",
              "  </tbody>\n",
              "</table>\n",
              "</div>"
            ],
            "text/plain": [
              "                                                 URL  ... KW5 in Copy\n",
              "0    https://procopytips.com/freelance-writing-jobs/  ...       False\n",
              "1      https://procopytips.com/tv-commercial-script/  ...       False\n",
              "2  https://procopytips.com/freelance-copywriting-...  ...       False\n",
              "3             https://procopytips.com/flys-or-flies/  ...       False\n",
              "4  https://procopytips.com/affect-change-or-effec...  ...       False\n",
              "\n",
              "[5 rows x 31 columns]"
            ]
          },
          "metadata": {},
          "execution_count": 115
        }
      ]
    },
    {
      "cell_type": "code",
      "metadata": {
        "id": "ybZGmtijGTwW"
      },
      "source": [
        "# drops rows if all values evaluate to true. (nothing for the user to do).\n",
        "def true_dropper(col1, col2, col3):\n",
        "    drop = df_striking.drop(\n",
        "        df_striking[\n",
        "            (df_striking[col1] == True)\n",
        "            & (df_striking[col2] == True)\n",
        "            & (df_striking[col3] == True)\n",
        "        ].index\n",
        "    )\n",
        "    return drop\n",
        "\n",
        "if drop_all_true == True:\n",
        "    df_striking = true_dropper(\"KW1 in Title\", \"KW1 in H1\", \"KW1 in Copy\")\n",
        "    df_striking = true_dropper(\"KW2 in Title\", \"KW2 in H1\", \"KW2 in Copy\")\n",
        "    df_striking = true_dropper(\"KW3 in Title\", \"KW3 in H1\", \"KW3 in Copy\")\n",
        "    df_striking = true_dropper(\"KW4 in Title\", \"KW4 in H1\", \"KW4 in Copy\")\n",
        "    df_striking = true_dropper(\"KW5 in Title\", \"KW5 in H1\", \"KW5 in Copy\")"
      ],
      "execution_count": 116,
      "outputs": []
    },
    {
      "cell_type": "code",
      "metadata": {
        "colab": {
          "base_uri": "https://localhost:8080/",
          "height": 17
        },
        "id": "NUA6t3VSGUjP",
        "outputId": "a2f4388e-1ece-4ba8-e481-8fadd9273eaa"
      },
      "source": [
        "df_striking.to_csv('Keywords in Striking Distance.csv', index=False)\n",
        "files.download(\"Keywords in Striking Distance.csv\")"
      ],
      "execution_count": 117,
      "outputs": [
        {
          "output_type": "display_data",
          "data": {
            "application/javascript": [
              "\n",
              "    async function download(id, filename, size) {\n",
              "      if (!google.colab.kernel.accessAllowed) {\n",
              "        return;\n",
              "      }\n",
              "      const div = document.createElement('div');\n",
              "      const label = document.createElement('label');\n",
              "      label.textContent = `Downloading \"${filename}\": `;\n",
              "      div.appendChild(label);\n",
              "      const progress = document.createElement('progress');\n",
              "      progress.max = size;\n",
              "      div.appendChild(progress);\n",
              "      document.body.appendChild(div);\n",
              "\n",
              "      const buffers = [];\n",
              "      let downloaded = 0;\n",
              "\n",
              "      const channel = await google.colab.kernel.comms.open(id);\n",
              "      // Send a message to notify the kernel that we're ready.\n",
              "      channel.send({})\n",
              "\n",
              "      for await (const message of channel.messages) {\n",
              "        // Send a message to notify the kernel that we're ready.\n",
              "        channel.send({})\n",
              "        if (message.buffers) {\n",
              "          for (const buffer of message.buffers) {\n",
              "            buffers.push(buffer);\n",
              "            downloaded += buffer.byteLength;\n",
              "            progress.value = downloaded;\n",
              "          }\n",
              "        }\n",
              "      }\n",
              "      const blob = new Blob(buffers, {type: 'application/binary'});\n",
              "      const a = document.createElement('a');\n",
              "      a.href = window.URL.createObjectURL(blob);\n",
              "      a.download = filename;\n",
              "      div.appendChild(a);\n",
              "      a.click();\n",
              "      div.remove();\n",
              "    }\n",
              "  "
            ],
            "text/plain": [
              "<IPython.core.display.Javascript object>"
            ]
          },
          "metadata": {}
        },
        {
          "output_type": "display_data",
          "data": {
            "application/javascript": [
              "download(\"download_a594f321-6486-4f66-b406-96ae0cd860dc\", \"Keywords in Striking Distance.csv\", 201297)"
            ],
            "text/plain": [
              "<IPython.core.display.Javascript object>"
            ]
          },
          "metadata": {}
        }
      ]
    },
    {
      "cell_type": "markdown",
      "metadata": {
        "id": "6StIBNOoS-ia"
      },
      "source": [
        ""
      ]
    }
  ]
}